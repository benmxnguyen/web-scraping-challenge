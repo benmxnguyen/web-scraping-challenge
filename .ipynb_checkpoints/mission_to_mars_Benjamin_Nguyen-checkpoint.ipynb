{
 "cells": [
  {
   "cell_type": "code",
   "execution_count": 1,
   "id": "42a7fff1",
   "metadata": {},
   "outputs": [],
   "source": [
    "from splinter import Browser\n",
    "from bs4 import BeautifulSoup\n",
    "from webdriver_manager.chrome import ChromeDriverManager\n",
    "import pandas as pd"
   ]
  },
  {
   "cell_type": "code",
   "execution_count": 2,
   "id": "70c4141b",
   "metadata": {},
   "outputs": [
    {
     "name": "stderr",
     "output_type": "stream",
     "text": [
      "\n",
      "\n",
      "====== WebDriver manager ======\n",
      "Current google-chrome version is 96.0.4664\n",
      "Get LATEST chromedriver version for 96.0.4664 google-chrome\n",
      "Driver [C:\\Users\\bmxng\\.wdm\\drivers\\chromedriver\\win32\\96.0.4664.45\\chromedriver.exe] found in cache\n"
     ]
    }
   ],
   "source": [
    "executable_path = {'executable_path': ChromeDriverManager().install()}\n",
    "browser = Browser('chrome', **executable_path, headless=False)"
   ]
  },
  {
   "cell_type": "code",
   "execution_count": 3,
   "id": "c80e41ec",
   "metadata": {},
   "outputs": [],
   "source": [
    "url = 'https://redplanetscience.com/'\n",
    "browser.visit(url)"
   ]
  },
  {
   "cell_type": "code",
   "execution_count": 4,
   "id": "08823bc8",
   "metadata": {},
   "outputs": [],
   "source": [
    "html = browser.html\n",
    "soup = BeautifulSoup(html, 'html.parser')"
   ]
  },
  {
   "cell_type": "code",
   "execution_count": 5,
   "id": "2b04e217",
   "metadata": {},
   "outputs": [
    {
     "data": {
      "text/plain": [
       "[]"
      ]
     },
     "execution_count": 5,
     "metadata": {},
     "output_type": "execute_result"
    }
   ],
   "source": [
    "articles = soup.find_all('div', class_=\"content_title\")\n",
    "article_list = []\n",
    "for article in articles:\n",
    "    print(article.text)\n",
    "    article_list.append(article.text)\n",
    "\n",
    "article_list"
   ]
  },
  {
   "cell_type": "code",
   "execution_count": 6,
   "id": "c7e16999",
   "metadata": {
    "scrolled": true
   },
   "outputs": [
    {
     "data": {
      "text/plain": [
       "[]"
      ]
     },
     "execution_count": 6,
     "metadata": {},
     "output_type": "execute_result"
    }
   ],
   "source": [
    "paragraphs = soup.find_all('div', class_=\"article_teaser_body\")\n",
    "paragraph_list = []\n",
    "for paragraph in paragraphs:\n",
    "    print(paragraph.text)\n",
    "    paragraph_list.append(paragraph.text)\n",
    "\n",
    "    \n",
    "paragraph_list"
   ]
  },
  {
   "cell_type": "code",
   "execution_count": 7,
   "id": "30b042d4",
   "metadata": {},
   "outputs": [
    {
     "data": {
      "text/plain": [
       "[]"
      ]
     },
     "execution_count": 7,
     "metadata": {},
     "output_type": "execute_result"
    }
   ],
   "source": [
    "articles_dict_list = []\n",
    "for i in range(len(article_list)):\n",
    "    ith_dict = {}\n",
    "    ith_dict.update([('headline', article_list[i]), ('teaser_body', paragraph_list[i])])\n",
    "    articles_dict_list.append(ith_dict)\n",
    "\n",
    "articles_dict_list"
   ]
  },
  {
   "cell_type": "code",
   "execution_count": 8,
   "id": "e632d8bd",
   "metadata": {},
   "outputs": [
    {
     "data": {
      "text/plain": [
       "'https://spaceimages-mars.com/image/featured/mars2.jpg'"
      ]
     },
     "execution_count": 8,
     "metadata": {},
     "output_type": "execute_result"
    }
   ],
   "source": [
    "#Find Featured Mars Image\n",
    "url2 = 'https://spaceimages-mars.com'\n",
    "browser.visit(url2)\n",
    "\n",
    "html = browser.html\n",
    "soup = BeautifulSoup(html, 'html.parser')\n",
    "\n",
    "featured_image = soup.find('img', class_='headerimage fade-in')['src']\n",
    "\n",
    "featured_image\n",
    "\n",
    "featured_image_url = url2 + '/' + featured_image\n",
    "\n",
    "featured_image_url"
   ]
  },
  {
   "cell_type": "code",
   "execution_count": 9,
   "id": "7cada3e0",
   "metadata": {},
   "outputs": [
    {
     "data": {
      "text/plain": [
       "<table class=\"table table-striped\">\n",
       "<tbody>\n",
       "<tr>\n",
       "<th scope=\"row\">Equatorial Diameter:</th>\n",
       "<td>6,792 km</td>\n",
       "</tr>\n",
       "<tr>\n",
       "<th scope=\"row\">Polar Diameter:</th>\n",
       "<td>6,752 km</td>\n",
       "</tr>\n",
       "<tr>\n",
       "<th scope=\"row\">Mass:</th>\n",
       "<td>\t6.39 × 10^23 kg (0.11 Earths)</td>\n",
       "</tr>\n",
       "<tr>\n",
       "<th scope=\"row\">Moons:</th>\n",
       "<td>\t2 ( <span class=\"red\">Phobos </span> &amp; <span class=\"red\"> Deimos </span>)</td>\n",
       "</tr>\n",
       "<tr>\n",
       "<th scope=\"row\">Orbit Distance:</th>\n",
       "<td>\t227,943,824 km (1.38 AU)</td>\n",
       "</tr>\n",
       "<tr>\n",
       "<th scope=\"row\">Orbit Period:</th>\n",
       "<td>\t687 days (1.9 years)</td>\n",
       "</tr>\n",
       "<tr>\n",
       "<th scope=\"row\">Surface Temperature:</th>\n",
       "<td>\t-87 to -5 °C</td>\n",
       "</tr>\n",
       "<tr>\n",
       "<th scope=\"row\">First Record:</th>\n",
       "<td>\t2nd millennium BC</td>\n",
       "</tr>\n",
       "<tr>\n",
       "<th scope=\"row\">Recorded By:</th>\n",
       "<td>\tEgyptian astronomers</td>\n",
       "</tr>\n",
       "</tbody>\n",
       "</table>"
      ]
     },
     "execution_count": 9,
     "metadata": {},
     "output_type": "execute_result"
    }
   ],
   "source": [
    "#Scrape facts about Mars from table\n",
    "url3 = 'https://galaxyfacts-mars.com/'\n",
    "browser.visit(url3)\n",
    "\n",
    "html = browser.html\n",
    "soup = BeautifulSoup(html, 'html.parser')\n",
    "\n",
    "scraped_table = soup.find('table', class_='table table-striped')\n",
    "# earthmars_table = scraped_table[0]\n",
    "# mars_table = scraped_table[1]\n",
    "scraped_table\n",
    "# mars_table"
   ]
  },
  {
   "cell_type": "code",
   "execution_count": 10,
   "id": "4c0d766f",
   "metadata": {},
   "outputs": [],
   "source": [
    "# #Convert table pulled from html into an html table string\n",
    "# mars_html_table = mars_table.to_html()\n",
    "# mars_html_table = str(mars_html_table)\n",
    "# mars_html_table"
   ]
  },
  {
   "cell_type": "code",
   "execution_count": 11,
   "id": "ed372aa9",
   "metadata": {},
   "outputs": [
    {
     "data": {
      "text/plain": [
       "[{'hemisphere': 'Cerberus Hemisphere',\n",
       "  'image_url': 'https://marshemispheres.com/images/full.jpg'},\n",
       " {'hemisphere': 'Schiaparelli Hemisphere',\n",
       "  'image_url': 'https://marshemispheres.com/images/schiaparelli_enhanced-full.jpg'},\n",
       " {'hemisphere': 'Syrtis Major Hemisphere',\n",
       "  'image_url': 'https://marshemispheres.com/images/syrtis_major_enhanced-full.jpg'},\n",
       " {'hemisphere': 'Valles Marineris Hemisphere',\n",
       "  'image_url': 'https://marshemispheres.com/images/valles_marineris_enhanced-full.jpg'}]"
      ]
     },
     "execution_count": 11,
     "metadata": {},
     "output_type": "execute_result"
    }
   ],
   "source": [
    "#Mars Hemispheres\n",
    "\n",
    "url4 = 'https://marshemispheres.com/'\n",
    "browser.visit(url4)\n",
    "\n",
    "mars_hemis = ['Cerberus', 'Schiaparelli', 'Syrtis Major', 'Valles Marineris']\n",
    "mars_hemis_dict_list = []\n",
    "for x in range(len(mars_hemis)):\n",
    "    \n",
    "    browser.links.find_by_partial_text(mars_hemis[x]).click()\n",
    "    \n",
    "    html = browser.html\n",
    "    soup = BeautifulSoup(html, 'html.parser')\n",
    "    \n",
    "    hemi_image = soup.find_all('a', string='Sample')[0]['href']\n",
    "    mars_hemis_dict = {}\n",
    "    mars_hemis_dict['hemisphere'] = mars_hemis[x] + ' Hemisphere'\n",
    "    mars_hemis_dict['image_url'] = url4 + hemi_image\n",
    "    browser.links.find_by_partial_text('Back').click()\n",
    "    mars_hemis_dict_list.append(mars_hemis_dict)\n",
    "\n",
    "mars_hemis_dict_list"
   ]
  },
  {
   "cell_type": "code",
   "execution_count": 12,
   "id": "f73937db",
   "metadata": {},
   "outputs": [
    {
     "ename": "NameError",
     "evalue": "name 'mars_html_table' is not defined",
     "output_type": "error",
     "traceback": [
      "\u001b[1;31m---------------------------------------------------------------------------\u001b[0m",
      "\u001b[1;31mNameError\u001b[0m                                 Traceback (most recent call last)",
      "\u001b[1;32m~\\AppData\\Local\\Temp/ipykernel_26884/2080341450.py\u001b[0m in \u001b[0;36m<module>\u001b[1;34m\u001b[0m\n\u001b[0;32m      2\u001b[0m                      \u001b[1;34m\"featured_image\"\u001b[0m\u001b[1;33m:\u001b[0m \u001b[0mfeatured_image_url\u001b[0m\u001b[1;33m,\u001b[0m\u001b[1;33m\u001b[0m\u001b[1;33m\u001b[0m\u001b[0m\n\u001b[0;32m      3\u001b[0m                      \u001b[1;34m\"mars_hemispheres\"\u001b[0m\u001b[1;33m:\u001b[0m \u001b[0mmars_hemis_dict_list\u001b[0m\u001b[1;33m,\u001b[0m\u001b[1;33m\u001b[0m\u001b[1;33m\u001b[0m\u001b[0m\n\u001b[1;32m----> 4\u001b[1;33m                      \"mars_table\": mars_html_table}\n\u001b[0m",
      "\u001b[1;31mNameError\u001b[0m: name 'mars_html_table' is not defined"
     ]
    }
   ],
   "source": [
    "scraped_mars_dict = {\"articles\": articles_dict_list,\n",
    "                     \"featured_image\": featured_image_url,\n",
    "                     \"mars_hemispheres\": mars_hemis_dict_list,\n",
    "                     \"mars_table\": scraped_table}"
   ]
  },
  {
   "cell_type": "code",
   "execution_count": null,
   "id": "6e1bd9da",
   "metadata": {},
   "outputs": [],
   "source": [
    "scraped_mars_dict['mars_table']"
   ]
  },
  {
   "cell_type": "code",
   "execution_count": null,
   "id": "82ce2fb2",
   "metadata": {},
   "outputs": [],
   "source": []
  }
 ],
 "metadata": {
  "kernelspec": {
   "display_name": "Python [conda env:PythonData] *",
   "language": "python",
   "name": "conda-env-PythonData-py"
  },
  "language_info": {
   "codemirror_mode": {
    "name": "ipython",
    "version": 3
   },
   "file_extension": ".py",
   "mimetype": "text/x-python",
   "name": "python",
   "nbconvert_exporter": "python",
   "pygments_lexer": "ipython3",
   "version": "3.8.11"
  }
 },
 "nbformat": 4,
 "nbformat_minor": 5
}
